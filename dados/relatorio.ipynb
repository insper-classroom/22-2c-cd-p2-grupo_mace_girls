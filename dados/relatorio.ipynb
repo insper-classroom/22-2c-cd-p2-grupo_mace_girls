{
 "cells": [
  {
   "cell_type": "code",
   "execution_count": 1,
   "metadata": {},
   "outputs": [
    {
     "name": "stdout",
     "output_type": "stream",
     "text": [
      "Requirement already satisfied: import-ipynb in c:\\users\\grupo\\anaconda3\\lib\\site-packages (0.1.4)\n",
      "Requirement already satisfied: nbformat in c:\\users\\grupo\\anaconda3\\lib\\site-packages (from import-ipynb) (5.1.3)\n",
      "Requirement already satisfied: IPython in c:\\users\\grupo\\anaconda3\\lib\\site-packages (from import-ipynb) (7.29.0)\n",
      "Requirement already satisfied: jedi>=0.16 in c:\\users\\grupo\\anaconda3\\lib\\site-packages (from IPython->import-ipynb) (0.18.0)\n",
      "Requirement already satisfied: pygments in c:\\users\\grupo\\anaconda3\\lib\\site-packages (from IPython->import-ipynb) (2.10.0)\n",
      "Requirement already satisfied: backcall in c:\\users\\grupo\\anaconda3\\lib\\site-packages (from IPython->import-ipynb) (0.2.0)\n",
      "Requirement already satisfied: prompt-toolkit!=3.0.0,!=3.0.1,<3.1.0,>=2.0.0 in c:\\users\\grupo\\anaconda3\\lib\\site-packages (from IPython->import-ipynb) (3.0.20)\n",
      "Requirement already satisfied: pickleshare in c:\\users\\grupo\\anaconda3\\lib\\site-packages (from IPython->import-ipynb) (0.7.5)\n",
      "Requirement already satisfied: traitlets>=4.2 in c:\\users\\grupo\\anaconda3\\lib\\site-packages (from IPython->import-ipynb) (5.1.0)\n",
      "Requirement already satisfied: matplotlib-inline in c:\\users\\grupo\\anaconda3\\lib\\site-packages (from IPython->import-ipynb) (0.1.2)\n",
      "Requirement already satisfied: decorator in c:\\users\\grupo\\anaconda3\\lib\\site-packages (from IPython->import-ipynb) (5.1.0)\n",
      "Requirement already satisfied: colorama in c:\\users\\grupo\\anaconda3\\lib\\site-packages (from IPython->import-ipynb) (0.4.4)\n",
      "Requirement already satisfied: setuptools>=18.5 in c:\\users\\grupo\\anaconda3\\lib\\site-packages (from IPython->import-ipynb) (58.0.4)\n",
      "Requirement already satisfied: parso<0.9.0,>=0.8.0 in c:\\users\\grupo\\anaconda3\\lib\\site-packages (from jedi>=0.16->IPython->import-ipynb) (0.8.2)\n",
      "Requirement already satisfied: wcwidth in c:\\users\\grupo\\anaconda3\\lib\\site-packages (from prompt-toolkit!=3.0.0,!=3.0.1,<3.1.0,>=2.0.0->IPython->import-ipynb) (0.2.5)\n",
      "Requirement already satisfied: jupyter-core in c:\\users\\grupo\\anaconda3\\lib\\site-packages (from nbformat->import-ipynb) (4.8.1)\n",
      "Requirement already satisfied: jsonschema!=2.5.0,>=2.4 in c:\\users\\grupo\\anaconda3\\lib\\site-packages (from nbformat->import-ipynb) (3.2.0)\n",
      "Requirement already satisfied: ipython-genutils in c:\\users\\grupo\\anaconda3\\lib\\site-packages (from nbformat->import-ipynb) (0.2.0)\n",
      "Requirement already satisfied: six>=1.11.0 in c:\\users\\grupo\\anaconda3\\lib\\site-packages (from jsonschema!=2.5.0,>=2.4->nbformat->import-ipynb) (1.16.0)\n",
      "Requirement already satisfied: attrs>=17.4.0 in c:\\users\\grupo\\anaconda3\\lib\\site-packages (from jsonschema!=2.5.0,>=2.4->nbformat->import-ipynb) (21.2.0)\n",
      "Requirement already satisfied: pyrsistent>=0.14.0 in c:\\users\\grupo\\anaconda3\\lib\\site-packages (from jsonschema!=2.5.0,>=2.4->nbformat->import-ipynb) (0.18.0)\n",
      "Requirement already satisfied: pywin32>=1.0 in c:\\users\\grupo\\anaconda3\\lib\\site-packages (from jupyter-core->nbformat->import-ipynb) (228)\n"
     ]
    }
   ],
   "source": [
    "!pip install import-ipynb"
   ]
  },
  {
   "cell_type": "code",
   "execution_count": 2,
   "metadata": {},
   "outputs": [],
   "source": [
    "%matplotlib inline\n",
    "import pandas as pd\n",
    "import matplotlib.pyplot as plt\n",
    "import numpy as np\n",
    "import os\n",
    "import re \n",
    "import import_ipynb"
   ]
  },
  {
   "cell_type": "code",
   "execution_count": 6,
   "metadata": {},
   "outputs": [],
   "source": [
    "import funcoes"
   ]
  },
  {
   "cell_type": "code",
   "execution_count": 74,
   "metadata": {},
   "outputs": [
    {
     "data": {
      "text/plain": [
       "count    3682.000000\n",
       "mean       20.314546\n",
       "std        78.066405\n",
       "min         0.009442\n",
       "25%         2.509250\n",
       "50%         5.862000\n",
       "75%        14.657250\n",
       "max      2274.044000\n",
       "Name: tmdb_popularity, dtype: float64"
      ]
     },
     "execution_count": 74,
     "metadata": {},
     "output_type": "execute_result"
    }
   ],
   "source": [
    "dados = pd.read_csv('titles.csv')\n",
    "filmes = dados.loc[dados.type=='MOVIE']\n",
    "filmes.tmdb_popularity.describe()\n",
    "# A target escolhida para avaliar quais filmes apresentam maior satisfação dos usuários foi a popularidade de acordo com o tmdb. Esta\n",
    "# varia de 0.009442 a 2274.044000, pode-se observar que 50% da popularidade dos filmes na Netflix está abaixo de 5, mas a média é 20, \n",
    "#logo a popularidade de alguns filmes difere muito da maioria e sobe a média demais em relação a todos "
   ]
  },
  {
   "cell_type": "code",
   "execution_count": 75,
   "metadata": {},
   "outputs": [
    {
     "data": {
      "text/html": [
       "<div>\n",
       "<style scoped>\n",
       "    .dataframe tbody tr th:only-of-type {\n",
       "        vertical-align: middle;\n",
       "    }\n",
       "\n",
       "    .dataframe tbody tr th {\n",
       "        vertical-align: top;\n",
       "    }\n",
       "\n",
       "    .dataframe thead th {\n",
       "        text-align: right;\n",
       "    }\n",
       "</style>\n",
       "<table border=\"1\" class=\"dataframe\">\n",
       "  <thead>\n",
       "    <tr style=\"text-align: right;\">\n",
       "      <th></th>\n",
       "      <th>id</th>\n",
       "      <th>title</th>\n",
       "      <th>type</th>\n",
       "      <th>description</th>\n",
       "      <th>release_year</th>\n",
       "      <th>age_certification</th>\n",
       "      <th>runtime</th>\n",
       "      <th>genres</th>\n",
       "      <th>production_countries</th>\n",
       "      <th>seasons</th>\n",
       "      <th>imdb_id</th>\n",
       "      <th>imdb_score</th>\n",
       "      <th>imdb_votes</th>\n",
       "      <th>tmdb_popularity</th>\n",
       "      <th>tmdb_score</th>\n",
       "    </tr>\n",
       "  </thead>\n",
       "  <tbody>\n",
       "    <tr>\n",
       "      <th>1</th>\n",
       "      <td>tm84618</td>\n",
       "      <td>Taxi Driver</td>\n",
       "      <td>MOVIE</td>\n",
       "      <td>A mentally unstable Vietnam War veteran works ...</td>\n",
       "      <td>1976</td>\n",
       "      <td>R</td>\n",
       "      <td>114</td>\n",
       "      <td>['drama', 'crime']</td>\n",
       "      <td>['US']</td>\n",
       "      <td>NaN</td>\n",
       "      <td>tt0075314</td>\n",
       "      <td>8.2</td>\n",
       "      <td>808582.0</td>\n",
       "      <td>40.965</td>\n",
       "      <td>8.179</td>\n",
       "    </tr>\n",
       "    <tr>\n",
       "      <th>2</th>\n",
       "      <td>tm154986</td>\n",
       "      <td>Deliverance</td>\n",
       "      <td>MOVIE</td>\n",
       "      <td>Intent on seeing the Cahulawassee River before...</td>\n",
       "      <td>1972</td>\n",
       "      <td>R</td>\n",
       "      <td>109</td>\n",
       "      <td>['drama', 'action', 'thriller', 'european']</td>\n",
       "      <td>['US']</td>\n",
       "      <td>NaN</td>\n",
       "      <td>tt0068473</td>\n",
       "      <td>7.7</td>\n",
       "      <td>107673.0</td>\n",
       "      <td>10.010</td>\n",
       "      <td>7.300</td>\n",
       "    </tr>\n",
       "    <tr>\n",
       "      <th>3</th>\n",
       "      <td>tm127384</td>\n",
       "      <td>Monty Python and the Holy Grail</td>\n",
       "      <td>MOVIE</td>\n",
       "      <td>King Arthur, accompanied by his squire, recrui...</td>\n",
       "      <td>1975</td>\n",
       "      <td>PG</td>\n",
       "      <td>91</td>\n",
       "      <td>['fantasy', 'action', 'comedy']</td>\n",
       "      <td>['GB']</td>\n",
       "      <td>NaN</td>\n",
       "      <td>tt0071853</td>\n",
       "      <td>8.2</td>\n",
       "      <td>534486.0</td>\n",
       "      <td>15.461</td>\n",
       "      <td>7.811</td>\n",
       "    </tr>\n",
       "    <tr>\n",
       "      <th>4</th>\n",
       "      <td>tm120801</td>\n",
       "      <td>The Dirty Dozen</td>\n",
       "      <td>MOVIE</td>\n",
       "      <td>12 American military prisoners in World War II...</td>\n",
       "      <td>1967</td>\n",
       "      <td>NaN</td>\n",
       "      <td>150</td>\n",
       "      <td>['war', 'action']</td>\n",
       "      <td>['GB', 'US']</td>\n",
       "      <td>NaN</td>\n",
       "      <td>tt0061578</td>\n",
       "      <td>7.7</td>\n",
       "      <td>72662.0</td>\n",
       "      <td>20.398</td>\n",
       "      <td>7.600</td>\n",
       "    </tr>\n",
       "    <tr>\n",
       "      <th>6</th>\n",
       "      <td>tm70993</td>\n",
       "      <td>Life of Brian</td>\n",
       "      <td>MOVIE</td>\n",
       "      <td>Brian Cohen is an average young Jewish man, bu...</td>\n",
       "      <td>1979</td>\n",
       "      <td>R</td>\n",
       "      <td>94</td>\n",
       "      <td>['comedy']</td>\n",
       "      <td>['GB']</td>\n",
       "      <td>NaN</td>\n",
       "      <td>tt0079470</td>\n",
       "      <td>8.0</td>\n",
       "      <td>395024.0</td>\n",
       "      <td>17.770</td>\n",
       "      <td>7.800</td>\n",
       "    </tr>\n",
       "    <tr>\n",
       "      <th>7</th>\n",
       "      <td>tm14873</td>\n",
       "      <td>Dirty Harry</td>\n",
       "      <td>MOVIE</td>\n",
       "      <td>When a madman dubbed 'Scorpio' terrorizes San ...</td>\n",
       "      <td>1971</td>\n",
       "      <td>R</td>\n",
       "      <td>102</td>\n",
       "      <td>['thriller', 'action', 'crime']</td>\n",
       "      <td>['US']</td>\n",
       "      <td>NaN</td>\n",
       "      <td>tt0066999</td>\n",
       "      <td>7.7</td>\n",
       "      <td>155051.0</td>\n",
       "      <td>12.817</td>\n",
       "      <td>7.500</td>\n",
       "    </tr>\n",
       "    <tr>\n",
       "      <th>8</th>\n",
       "      <td>tm119281</td>\n",
       "      <td>Bonnie and Clyde</td>\n",
       "      <td>MOVIE</td>\n",
       "      <td>In the 1930s, bored waitress Bonnie Parker fal...</td>\n",
       "      <td>1967</td>\n",
       "      <td>R</td>\n",
       "      <td>110</td>\n",
       "      <td>['crime', 'drama', 'action']</td>\n",
       "      <td>['US']</td>\n",
       "      <td>NaN</td>\n",
       "      <td>tt0061418</td>\n",
       "      <td>7.7</td>\n",
       "      <td>112048.0</td>\n",
       "      <td>15.687</td>\n",
       "      <td>7.500</td>\n",
       "    </tr>\n",
       "    <tr>\n",
       "      <th>9</th>\n",
       "      <td>tm98978</td>\n",
       "      <td>The Blue Lagoon</td>\n",
       "      <td>MOVIE</td>\n",
       "      <td>Two small children and a ship's cook survive a...</td>\n",
       "      <td>1980</td>\n",
       "      <td>R</td>\n",
       "      <td>104</td>\n",
       "      <td>['romance', 'action', 'drama']</td>\n",
       "      <td>['US']</td>\n",
       "      <td>NaN</td>\n",
       "      <td>tt0080453</td>\n",
       "      <td>5.8</td>\n",
       "      <td>69844.0</td>\n",
       "      <td>50.324</td>\n",
       "      <td>6.156</td>\n",
       "    </tr>\n",
       "    <tr>\n",
       "      <th>10</th>\n",
       "      <td>tm44204</td>\n",
       "      <td>The Guns of Navarone</td>\n",
       "      <td>MOVIE</td>\n",
       "      <td>A team of allied saboteurs are assigned an imp...</td>\n",
       "      <td>1961</td>\n",
       "      <td>NaN</td>\n",
       "      <td>158</td>\n",
       "      <td>['action', 'drama', 'war']</td>\n",
       "      <td>['GB', 'US']</td>\n",
       "      <td>NaN</td>\n",
       "      <td>tt0054953</td>\n",
       "      <td>7.5</td>\n",
       "      <td>50748.0</td>\n",
       "      <td>13.844</td>\n",
       "      <td>7.300</td>\n",
       "    </tr>\n",
       "    <tr>\n",
       "      <th>11</th>\n",
       "      <td>tm67378</td>\n",
       "      <td>The Professionals</td>\n",
       "      <td>MOVIE</td>\n",
       "      <td>An arrogant Texas millionaire hires four adven...</td>\n",
       "      <td>1966</td>\n",
       "      <td>PG-13</td>\n",
       "      <td>117</td>\n",
       "      <td>['western', 'action', 'european']</td>\n",
       "      <td>['US']</td>\n",
       "      <td>NaN</td>\n",
       "      <td>tt0060862</td>\n",
       "      <td>7.3</td>\n",
       "      <td>16446.0</td>\n",
       "      <td>13.123</td>\n",
       "      <td>7.100</td>\n",
       "    </tr>\n",
       "  </tbody>\n",
       "</table>\n",
       "</div>"
      ],
      "text/plain": [
       "          id                            title   type  \\\n",
       "1    tm84618                      Taxi Driver  MOVIE   \n",
       "2   tm154986                      Deliverance  MOVIE   \n",
       "3   tm127384  Monty Python and the Holy Grail  MOVIE   \n",
       "4   tm120801                  The Dirty Dozen  MOVIE   \n",
       "6    tm70993                    Life of Brian  MOVIE   \n",
       "7    tm14873                      Dirty Harry  MOVIE   \n",
       "8   tm119281                 Bonnie and Clyde  MOVIE   \n",
       "9    tm98978                  The Blue Lagoon  MOVIE   \n",
       "10   tm44204             The Guns of Navarone  MOVIE   \n",
       "11   tm67378                The Professionals  MOVIE   \n",
       "\n",
       "                                          description  release_year  \\\n",
       "1   A mentally unstable Vietnam War veteran works ...          1976   \n",
       "2   Intent on seeing the Cahulawassee River before...          1972   \n",
       "3   King Arthur, accompanied by his squire, recrui...          1975   \n",
       "4   12 American military prisoners in World War II...          1967   \n",
       "6   Brian Cohen is an average young Jewish man, bu...          1979   \n",
       "7   When a madman dubbed 'Scorpio' terrorizes San ...          1971   \n",
       "8   In the 1930s, bored waitress Bonnie Parker fal...          1967   \n",
       "9   Two small children and a ship's cook survive a...          1980   \n",
       "10  A team of allied saboteurs are assigned an imp...          1961   \n",
       "11  An arrogant Texas millionaire hires four adven...          1966   \n",
       "\n",
       "   age_certification  runtime                                       genres  \\\n",
       "1                  R      114                           ['drama', 'crime']   \n",
       "2                  R      109  ['drama', 'action', 'thriller', 'european']   \n",
       "3                 PG       91              ['fantasy', 'action', 'comedy']   \n",
       "4                NaN      150                            ['war', 'action']   \n",
       "6                  R       94                                   ['comedy']   \n",
       "7                  R      102              ['thriller', 'action', 'crime']   \n",
       "8                  R      110                 ['crime', 'drama', 'action']   \n",
       "9                  R      104               ['romance', 'action', 'drama']   \n",
       "10               NaN      158                   ['action', 'drama', 'war']   \n",
       "11             PG-13      117            ['western', 'action', 'european']   \n",
       "\n",
       "   production_countries  seasons    imdb_id  imdb_score  imdb_votes  \\\n",
       "1                ['US']      NaN  tt0075314         8.2    808582.0   \n",
       "2                ['US']      NaN  tt0068473         7.7    107673.0   \n",
       "3                ['GB']      NaN  tt0071853         8.2    534486.0   \n",
       "4          ['GB', 'US']      NaN  tt0061578         7.7     72662.0   \n",
       "6                ['GB']      NaN  tt0079470         8.0    395024.0   \n",
       "7                ['US']      NaN  tt0066999         7.7    155051.0   \n",
       "8                ['US']      NaN  tt0061418         7.7    112048.0   \n",
       "9                ['US']      NaN  tt0080453         5.8     69844.0   \n",
       "10         ['GB', 'US']      NaN  tt0054953         7.5     50748.0   \n",
       "11               ['US']      NaN  tt0060862         7.3     16446.0   \n",
       "\n",
       "    tmdb_popularity  tmdb_score  \n",
       "1            40.965       8.179  \n",
       "2            10.010       7.300  \n",
       "3            15.461       7.811  \n",
       "4            20.398       7.600  \n",
       "6            17.770       7.800  \n",
       "7            12.817       7.500  \n",
       "8            15.687       7.500  \n",
       "9            50.324       6.156  \n",
       "10           13.844       7.300  \n",
       "11           13.123       7.100  "
      ]
     },
     "execution_count": 75,
     "metadata": {},
     "output_type": "execute_result"
    }
   ],
   "source": [
    "\n",
    "# Primeiro filtramos nossa base para avaliar somente os filmes:\n",
    "filmes = dados.loc[dados.type=='MOVIE']\n",
    "filmes.head(10)"
   ]
  },
  {
   "cell_type": "code",
   "execution_count": 76,
   "metadata": {},
   "outputs": [
    {
     "ename": "SyntaxError",
     "evalue": "invalid syntax (Temp/ipykernel_44708/106401328.py, line 3)",
     "output_type": "error",
     "traceback": [
      "\u001b[1;36m  File \u001b[1;32m\"C:\\Users\\luiza\\AppData\\Local\\Temp/ipykernel_44708/106401328.py\"\u001b[1;36m, line \u001b[1;32m3\u001b[0m\n\u001b[1;33m    generos_frequentes =\u001b[0m\n\u001b[1;37m                         ^\u001b[0m\n\u001b[1;31mSyntaxError\u001b[0m\u001b[1;31m:\u001b[0m invalid syntax\n"
     ]
    }
   ],
   "source": [
    "#maior_80 = dados.loc[dados['tmdb_popularity']>80]\n",
    "#maior_80['genres'].value_counts()\n",
    "generos_frequentes = \n",
    "#comedia, drama, romance, ação, fantasia, horror"
   ]
  },
  {
   "cell_type": "code",
   "execution_count": 77,
   "metadata": {},
   "outputs": [],
   "source": [
    "#Para as variáveis quantitativas com valores que fogem muito da média pode ser feito a elimição dos valores\n",
    "#extremos a partir dos cálculos de limite superior e inferior\n",
    "#que são LS: Q3 + 1,5 IQ e LI: Q1 - 1,5 IQ, sendo IQ= Q3 - Q1"
   ]
  },
  {
   "cell_type": "code",
   "execution_count": 85,
   "metadata": {},
   "outputs": [
    {
     "data": {
      "image/png": "[encoded data removed]",
      "text/plain": [
       "<Figure size 432x288 with 1 Axes>"
      ]
     },
     "metadata": {
      "needs_background": "light"
     },
     "output_type": "display_data"
    },
    {
     "data": {
      "image/png": "[encoded data removed]",
      "text/plain": [
       "<Figure size 432x288 with 1 Axes>"
      ]
     },
     "metadata": {
      "needs_background": "light"
     },
     "output_type": "display_data"
    }
   ],
   "source": [
    "filmes= dados.loc[(dados.type == 'MOVIE'), :]\n",
    "\n",
    "def valores_extremos(dados, vari):\n",
    "    dados= dados[vari]\n",
    "    Qter= dados.quantile(0.75)\n",
    "    Qpri= dados.quantile(0.25)\n",
    "    iq= Qter - Qpri\n",
    "    LS = Qter + 1.5*iq\n",
    "    LI= Qpri - 1.5*iq\n",
    "    return(dados.loc[(dados>LI)&(dados<LS)])\n",
    "\n",
    "pop = valores_extremos(filmes, 'tmdb_popularity')\n",
    "\n",
    "faixa_pop= np.linspace(pop.min(), pop.max(), 20)\n",
    "\n",
    "\n",
    "plt.subplot(121) # Janela gráfica com 2 linhas, 2 colunas e histograma a seguir é colocado na posição 3\n",
    "plt.hist(pop, faixa_pop, edgecolor='white')\n",
    "plt.title(\"popularidade\")\n",
    "\n",
    "plt.tight_layout()\n",
    "plt.show()\n",
    "\n",
    "plt.subplot(122)\n",
    "plt.boxplot(pop)\n",
    "plt.show()"
   ]
  },
  {
   "cell_type": "code",
   "execution_count": 13,
   "metadata": {},
   "outputs": [],
   "source": [
    "nota_imdb= filmes.imdb_score\n",
    "nota_tmdb= filmes.tmdb_score\n",
    "duracao= filmes.runtime\n",
    "votos_imdb= filmes.imdb_votes\n",
    "lancamento= filmes.release_year\n",
    "popularidade= filmes.tmdb_popularity"
   ]
  },
  {
   "cell_type": "code",
   "execution_count": 34,
   "metadata": {},
   "outputs": [],
   "source": [
    "#para analidar a frequêncidas dos dados, fizemos um histograma de cada uma das variáveis quantitativas\n",
    "\n",
    "faixa_popularidade= np.linspace(popularidade.min(), popularidade.max(), 30)\n",
    "faixa_nota_imdb= np.linspace(nota_imdb.min(), nota_imdb.max(), 20)\n",
    "faixa_nota_tmdb= np.linspace(nota_imdb.min(), nota_imdb.max(), 20)\n"
   ]
  },
  {
   "cell_type": "code",
   "execution_count": 43,
   "metadata": {},
   "outputs": [
    {
     "data": {
      "image/png": "[encoded data removed]",
      "text/plain": [
       "<Figure size 432x288 with 2 Axes>"
      ]
     },
     "metadata": {
      "needs_background": "light"
     },
     "output_type": "display_data"
    },
    {
     "name": "stdout",
     "output_type": "stream",
     "text": [
      "0.6935424516543471\n"
     ]
    }
   ],
   "source": [
    "plt.subplot(121) # Janela gráfica com 2 linhas, 2 colunas e histograma a seguir é colocado na posição 3\n",
    "plt.hist(nota_imdb, faixa_nota_imdb, edgecolor='white')\n",
    "plt.title(\"notas_imdb\")\n",
    "\n",
    "\n",
    "plt.subplot(122) # Janela gráfica com 2 linhas, 2 colunas e histograma a seguir é colocado na posição 4\n",
    "plt.hist(nota_tmdb,faixa_nota_tmdb , edgecolor='white', density=True)\n",
    "plt.title(\"notas_tmdb\")\n",
    "\n",
    "\n",
    "plt.tight_layout()\n",
    "plt.show()\n",
    "print(nota_tmdb.cov(nota_imdb))"
   ]
  },
  {
   "cell_type": "code",
   "execution_count": 14,
   "metadata": {},
   "outputs": [
    {
     "data": {
      "text/plain": [
       "count    3429.000000\n",
       "mean        6.246748\n",
       "std         1.127486\n",
       "min         1.500000\n",
       "25%         5.600000\n",
       "50%         6.400000\n",
       "75%         7.100000\n",
       "max         9.100000\n",
       "Name: imdb_score, dtype: float64"
      ]
     },
     "execution_count": 14,
     "metadata": {},
     "output_type": "execute_result"
    }
   ],
   "source": [
    "#observando as variáveis quantitativas que temos pra analisar, foi feito um describe de cada uma, para entender como ela se comporta\n",
    "nota_imdb.describe()"
   ]
  },
  {
   "cell_type": "code",
   "execution_count": 15,
   "metadata": {},
   "outputs": [
    {
     "data": {
      "text/plain": [
       "count    3549.000000\n",
       "mean        6.464012\n",
       "std         1.043817\n",
       "min         1.000000\n",
       "25%         5.900000\n",
       "50%         6.500000\n",
       "75%         7.100000\n",
       "max        10.000000\n",
       "Name: tmdb_score, dtype: float64"
      ]
     },
     "execution_count": 15,
     "metadata": {},
     "output_type": "execute_result"
    }
   ],
   "source": [
    "nota_tmdb.describe()"
   ]
  },
  {
   "cell_type": "code",
   "execution_count": null,
   "metadata": {},
   "outputs": [],
   "source": [
    "#notas são valores que giram de 0 a 10, nesse caso, e logo, não tem desvio padrão muito alto,\n",
    "#então não têm valores que fogem absurdo da grande maioria,\n",
    "#sendo assim, sem eliminar valores absurdos, é possível fazer um histograma"
   ]
  },
  {
   "cell_type": "code",
   "execution_count": 16,
   "metadata": {},
   "outputs": [
    {
     "data": {
      "text/plain": [
       "count    3744.000000\n",
       "mean       98.213675\n",
       "std        30.640640\n",
       "min         2.000000\n",
       "25%        85.000000\n",
       "50%        98.000000\n",
       "75%       115.000000\n",
       "max       240.000000\n",
       "Name: runtime, dtype: float64"
      ]
     },
     "execution_count": 16,
     "metadata": {},
     "output_type": "execute_result"
    }
   ],
   "source": [
    "duracao.describe()"
   ]
  },
  {
   "cell_type": "code",
   "execution_count": 17,
   "metadata": {},
   "outputs": [
    {
     "data": {
      "text/plain": [
       "count    3.413000e+03\n",
       "mean     2.690938e+04\n",
       "std      1.068378e+05\n",
       "min      5.000000e+00\n",
       "25%      5.600000e+02\n",
       "50%      2.591000e+03\n",
       "75%      1.154500e+04\n",
       "max      2.294231e+06\n",
       "Name: imdb_votes, dtype: float64"
      ]
     },
     "execution_count": 17,
     "metadata": {},
     "output_type": "execute_result"
    }
   ],
   "source": [
    "votos_imdb.describe() \n",
    "#o desvio padrão dos valores dos votos é muito alto "
   ]
  },
  {
   "cell_type": "code",
   "execution_count": 18,
   "metadata": {},
   "outputs": [
    {
     "data": {
      "text/plain": [
       "count    3744.000000\n",
       "mean     2015.870994\n",
       "std         7.622202\n",
       "min      1954.000000\n",
       "25%      2015.000000\n",
       "50%      2018.000000\n",
       "75%      2020.000000\n",
       "max      2022.000000\n",
       "Name: release_year, dtype: float64"
      ]
     },
     "execution_count": 18,
     "metadata": {},
     "output_type": "execute_result"
    }
   ],
   "source": [
    "lancamento.describe()"
   ]
  },
  {
   "cell_type": "code",
   "execution_count": 22,
   "metadata": {},
   "outputs": [
    {
     "name": "stdout",
     "output_type": "stream",
     "text": [
      "Covariância entre popularidade e nota_imdb é -3.86\n",
      "Covariância entre popularidade e nota_tmdb é 3.50\n",
      "Covariância entre popularidade e duracao é 91.53\n",
      "Covariância entre popularidade e votos_imdb é 767201.20\n",
      "Covariância entre popularidade e ano de lançamento é 46.09\n"
     ]
    }
   ],
   "source": [
    "#Em seguida fizemos a covariância da popularidade com essas variáveis\n",
    "#A covariância é um cálculo estatístico que torna possível a comparação de dois grupos de dados e, dessa forma, entender como eles se relacionam entre si\n",
    "#Percebendo alguma covariância alta entre as variáveis é possível entender melhor o que influencia cada coisa\n",
    "print('Covariância entre popularidade e nota_imdb é {0:.2f}'.format(popularidade.cov(nota_imdb)))\n",
    "print('Covariância entre popularidade e nota_tmdb é {0:.2f}'.format(popularidade.cov(nota_tmdb)))\n",
    "print('Covariância entre popularidade e duracao é {0:.2f}'.format(popularidade.cov(duracao)))\n",
    "print('Covariância entre popularidade e votos_imdb é {0:.2f}'.format(popularidade.cov(votos_imdb)))\n",
    "print('Covariância entre popularidade e ano de lançamento é {0:.2f}'.format(popularidade.cov(lancamento)))"
   ]
  },
  {
   "cell_type": "code",
   "execution_count": 38,
   "metadata": {},
   "outputs": [],
   "source": [
    "#Um erro que pode ocorrer é que não percebemos a relação de um dado com outro por conta influencia de outro dado sobre este, logo fizemos a covariância dos outros dados entre si\n",
    "#o que relacionar?"
   ]
  },
  {
   "cell_type": "code",
   "execution_count": null,
   "metadata": {},
   "outputs": [],
   "source": []
  },
  {
   "cell_type": "code",
   "execution_count": 39,
   "metadata": {},
   "outputs": [
    {
     "name": "stdout",
     "output_type": "stream",
     "text": [
      "Correlação entre tmdb_popularity e imdb_score é -0.04\n",
      "Correlação entre tmdb_popularity e tmdb_score é 0.04\n",
      "Correlação entre tmdb_popularity e runtime é 0.04\n",
      "Correlação entre tmdb_popularity e release_year é 0.08\n",
      "Correlação entre tmdb_popularity e imdb_votes é 0.09\n"
     ]
    },
    {
     "data": {
      "image/png": "[encoded data removed]",
      "text/plain": [
       "<Figure size 1008x1008 with 5 Axes>"
      ]
     },
     "metadata": {
      "needs_background": "light"
     },
     "output_type": "display_data"
    }
   ],
   "source": [
    "#Em seguida relacionamos a popularidade com cada variável quantitativa do dataframe para ver se havia alguma relação:\n",
    "fig = plt.figure(figsize=(14, 14))\n",
    "plt.subplot(321)\n",
    "plt.scatter(filmes.imdb_score, filmes.tmdb_popularity, color='red', alpha=0.4)\n",
    "plt.title('Gráfico de dispersão entre popularidade e nota do imdb')\n",
    "plt.xlabel('nota imdb')\n",
    "plt.ylabel('popularidade')\n",
    "plt.subplots_adjust(top=1)\n",
    "print('Correlação entre tmdb_popularity e imdb_score é {0:.2f}'.format(filmes.tmdb_popularity.corr(filmes.imdb_score)))\n",
    "\n",
    "plt.subplot(322)\n",
    "plt.scatter( filmes.tmdb_score, filmes.tmdb_popularity, color='pink', alpha=0.4)\n",
    "plt.title('Gráfico de dispersão entre popularidade e nota do tmdb')\n",
    "plt.xlabel('nota tmdb')\n",
    "plt.ylabel('popularidade')\n",
    "plt.subplots_adjust(top=1)\n",
    "print('Correlação entre tmdb_popularity e tmdb_score é {0:.2f}'.format(filmes.tmdb_popularity.corr(filmes.tmdb_score)))\n",
    "\n",
    "plt.subplot(323)\n",
    "plt.scatter( filmes.runtime,filmes.tmdb_popularity, color='green', alpha=0.4)\n",
    "plt.title('Gráfico de dispersão entre popularidade e tempo de duração')\n",
    "plt.xlabel('tempo de duração')\n",
    "plt.ylabel('popularidade')\n",
    "plt.subplots_adjust(top=1)\n",
    "print('Correlação entre tmdb_popularity e runtime é {0:.2f}'.format(filmes.tmdb_popularity.corr(filmes.runtime)))\n",
    "\n",
    "plt.subplot(324)\n",
    "plt.scatter( filmes.release_year, filmes.tmdb_popularity, color='purple', alpha=0.4)\n",
    "plt.title('Gráfico de dispersão entre popularidade e ano de lançamento')\n",
    "plt.xlabel('ano de lançamento')\n",
    "plt.ylabel('popularidade')\n",
    "plt.subplots_adjust(top=1)\n",
    "print('Correlação entre tmdb_popularity e release_year é {0:.2f}'.format(filmes.tmdb_popularity.corr(filmes.release_year)))\n",
    "\n",
    "plt.subplot(325)\n",
    "plt.scatter(filmes.imdb_votes,filmes.tmdb_popularity, color='yellow', alpha=0.4)\n",
    "plt.title('Gráfico de dispersão entre popularidade e quantidade de votos')\n",
    "plt.xlabel('quantidade de votos')\n",
    "plt.ylabel('popularidade')\n",
    "plt.subplots_adjust(top=1)\n",
    "print('Correlação entre tmdb_popularity e imdb_votes é {0:.2f}'.format(filmes.tmdb_popularity.corr(filmes.imdb_votes)))\n",
    "\n"
   ]
  },
  {
   "cell_type": "code",
   "execution_count": null,
   "metadata": {},
   "outputs": [],
   "source": [
    "#depois selecionamos os gêneros mais comuns e aplicamos na "
   ]
  }
 ],
 "metadata": {
  "kernelspec": {
   "display_name": "Python 3.9.7 ('base')",
   "language": "python",
   "name": "python3"
  },
  "language_info": {
   "codemirror_mode": {
    "name": "ipython",
    "version": 3
   },
   "file_extension": ".py",
   "mimetype": "text/x-python",
   "name": "python",
   "nbconvert_exporter": "python",
   "pygments_lexer": "ipython3",
   "version": "3.9.7"
  },
  "vscode": {
   "interpreter": {
    "hash": "e72bf3336b1e51ff15a68be56c16890fcdadbf75c409e2aaba11dc236b715375"
   }
  }
 },
 "nbformat": 4,
 "nbformat_minor": 2
}
